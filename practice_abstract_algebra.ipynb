{
 "cells": [
  {
   "cell_type": "markdown",
   "id": "1181a982-140d-43fa-bada-da926d960308",
   "metadata": {},
   "source": [
    "# Sage Exercise and Practices\n",
    "\n",
    "This notebook follows the book [Abstract Algebra: Theory and Applications](http://abstract.ups.edu/sage-aata.html). \n",
    "\n",
    "It is a collection of exercises and practices that I have done while reading the book. Hope this notebook can be useful for those who are learning abstract algebra using SageMath."
   ]
  },
  {
   "cell_type": "code",
   "execution_count": 5,
   "id": "1d8c6199",
   "metadata": {},
   "outputs": [],
   "source": [
    "from sage import *"
   ]
  },
  {
   "cell_type": "markdown",
   "id": "8af0f90e",
   "metadata": {},
   "source": [
    "## Chapter 2: Integers"
   ]
  },
  {
   "cell_type": "code",
   "execution_count": 6,
   "id": "c95da002-7937-46e9-85bf-22a3b24d0834",
   "metadata": {},
   "outputs": [
    {
     "name": "stdout",
     "output_type": "stream",
     "text": [
      "2^3 * 3 * 59 * 87187\n"
     ]
    },
    {
     "data": {
      "text/plain": [
       "4"
      ]
     },
     "execution_count": 6,
     "metadata": {},
     "output_type": "execute_result"
    }
   ],
   "source": [
    "# 2.3.1\n",
    "print(factor(123456792))\n",
    "\n",
    "# 2.3.2\n",
    "gcd(84, 52)"
   ]
  },
  {
   "cell_type": "code",
   "execution_count": 7,
   "id": "d2704566",
   "metadata": {},
   "outputs": [
    {
     "name": "stdout",
     "output_type": "stream",
     "text": [
      "13\n"
     ]
    }
   ],
   "source": [
    "# 2.5.2 the Ackermann function\n",
    "def ack(x, y):\n",
    "    if x == 0: return y+1\n",
    "    elif y == 0: return ack(x-1, 1)\n",
    "    else:\n",
    "        return ack(x-1, ack(x, y-1))\n",
    "\n",
    "print(ack(3, 1))\n",
    "\n",
    "# NOTE: this recursion can be really deep."
   ]
  },
  {
   "cell_type": "code",
   "execution_count": 8,
   "id": "824fc213",
   "metadata": {},
   "outputs": [
    {
     "name": "stdout",
     "output_type": "stream",
     "text": [
      "(10037, 16)\n",
      "False\n",
      "12\n",
      "(12, -10, 993)\n",
      "12\n"
     ]
    }
   ],
   "source": [
    "# 2.7\n",
    "a = 1234567\n",
    "b = 123\n",
    "print(a.quo_rem(b))\n",
    "print(a.divides(b))\n",
    "\n",
    "print(gcd(1235688, 12444))\n",
    "print(xgcd(1235688, 12444))\n",
    "\n",
    "d, r, s = xgcd(1235688, 12444)  # gcd(a, b) = d = r * a + s * b\n",
    "print(r * 1235688 + s * 12444)"
   ]
  },
  {
   "cell_type": "code",
   "execution_count": 9,
   "id": "b06fb703",
   "metadata": {},
   "outputs": [
    {
     "name": "stdout",
     "output_type": "stream",
     "text": [
      "True\n",
      "3^2 * 547\n",
      "83\n",
      "[101, 103, 107, 109]\n",
      "2^3\n",
      "5^3\n",
      "43^1\n"
     ]
    }
   ],
   "source": [
    "# Prime, factors, and random prime.\n",
    "\n",
    "print(is_prime(430400923))\n",
    "\n",
    "print(factor(4923))\n",
    "\n",
    "print(random_prime(1000, proof=True))\n",
    "\n",
    "print(prime_range(100, 110))\n",
    "\n",
    "a = 43000\n",
    "for prime_factor, exponent in a.factor():\n",
    "    print(f\"{prime_factor}^{exponent}\")"
   ]
  },
  {
   "cell_type": "code",
   "execution_count": 10,
   "id": "30e4c472",
   "metadata": {},
   "outputs": [
    {
     "name": "stdout",
     "output_type": "stream",
     "text": [
      "a = 61319107, b = 97370219\n",
      "gcd(a, b) = 1\n",
      "gcd(a, b) = 1 = 27482033 * 61319107 + -17306870 * 97370219\n"
     ]
    }
   ],
   "source": [
    "# Exercise\n",
    "a = random_prime(10^8, proof=True)\n",
    "b = random_prime(10^8, proof=True)\n",
    "\n",
    "print(f\"a = {a}, b = {b}\")\n",
    "\n",
    "assert a.is_prime() and b.is_prime()\n",
    "\n",
    "print(f\"gcd(a, b) = {gcd(a, b)}\")\n",
    "\n",
    "d, r, s = xgcd(a, b)\n",
    "\n",
    "print(f\"gcd(a, b) = {d} = {r} * {a} + {s} * {b}\")"
   ]
  },
  {
   "cell_type": "code",
   "execution_count": 11,
   "id": "85d8c6e8",
   "metadata": {},
   "outputs": [
    {
     "data": {
      "text/plain": [
       "2 * 3^2 * 7 * 36492359"
      ]
     },
     "execution_count": 11,
     "metadata": {},
     "output_type": "execute_result"
    }
   ],
   "source": [
    "c = 4598037234\n",
    "c.factor()"
   ]
  },
  {
   "cell_type": "code",
   "execution_count": 12,
   "id": "64519deb",
   "metadata": {},
   "outputs": [
    {
     "name": "stdout",
     "output_type": "stream",
     "text": [
      "True\n",
      "False\n"
     ]
    }
   ],
   "source": [
    "print(7.divides(c))\n",
    "print(11.divides(c))"
   ]
  },
  {
   "cell_type": "markdown",
   "id": "9519773a",
   "metadata": {},
   "source": [
    "## Chapter 3: Groups"
   ]
  },
  {
   "cell_type": "markdown",
   "id": "d7dd412d",
   "metadata": {},
   "source": [
    "### Integer Ring and Basic Operations"
   ]
  },
  {
   "cell_type": "code",
   "execution_count": 13,
   "id": "b5d8a5e8",
   "metadata": {},
   "outputs": [
    {
     "name": "stdout",
     "output_type": "stream",
     "text": [
      "<class 'sage.rings.finite_rings.integer_mod_ring.IntegerModRing_generic_with_category'>\n",
      "[0, 1, 2, 3, 4, 5, 6, 7]\n",
      "0\n",
      "Ring of integers modulo 8\n"
     ]
    }
   ],
   "source": [
    "Z8 = Integers(8) # Create the ring of integers modulo 8.\n",
    "print(type(Z8))  # Print type information.\n",
    "print(Z8.list()) # Print the elements of the ring.\n",
    "\n",
    "a = Z8.an_element()  # Get a random element of the ring.\n",
    "print(a)\n",
    "print(a.parent())"
   ]
  },
  {
   "cell_type": "code",
   "execution_count": 14,
   "id": "010e4fa7",
   "metadata": {},
   "outputs": [
    {
     "data": {
      "text/plain": [
       "+  0 1 2 3 4 5 6 7\n",
       " +----------------\n",
       "0| 0 1 2 3 4 5 6 7\n",
       "1| 1 2 3 4 5 6 7 0\n",
       "2| 2 3 4 5 6 7 0 1\n",
       "3| 3 4 5 6 7 0 1 2\n",
       "4| 4 5 6 7 0 1 2 3\n",
       "5| 5 6 7 0 1 2 3 4\n",
       "6| 6 7 0 1 2 3 4 5\n",
       "7| 7 0 1 2 3 4 5 6\n"
      ]
     },
     "execution_count": 14,
     "metadata": {},
     "output_type": "execute_result"
    }
   ],
   "source": [
    "Z8.addition_table(names='elements')"
   ]
  },
  {
   "cell_type": "markdown",
   "id": "e98a0cfc",
   "metadata": {},
   "source": [
    "### Fancy Operation Table"
   ]
  },
  {
   "cell_type": "code",
   "execution_count": 15,
   "id": "4dd26e41",
   "metadata": {},
   "outputs": [
    {
     "data": {
      "text/plain": [
       " .  00 01 02 03 04 05 06 07 08 09 10 11\n",
       "  +------------------------------------\n",
       "00| 00 01 02 03 04 05 06 07 08 09 10 11\n",
       "01| 01 02 00 05 03 04 07 08 06 11 09 10\n",
       "02| 02 00 01 04 05 03 08 06 07 10 11 09\n",
       "03| 03 06 09 00 07 10 01 04 11 02 05 08\n",
       "04| 04 08 10 02 06 11 00 05 09 01 03 07\n",
       "05| 05 07 11 01 08 09 02 03 10 00 04 06\n",
       "06| 06 09 03 10 00 07 04 11 01 08 02 05\n",
       "07| 07 11 05 09 01 08 03 10 02 06 00 04\n",
       "08| 08 10 04 11 02 06 05 09 00 07 01 03\n",
       "09| 09 03 06 07 10 00 11 01 04 05 08 02\n",
       "10| 10 04 08 06 11 02 09 00 05 03 07 01\n",
       "11| 11 05 07 08 09 01 10 02 03 04 06 00\n"
      ]
     },
     "execution_count": 15,
     "metadata": {},
     "output_type": "execute_result"
    }
   ],
   "source": [
    "from sage.matrix.operation_table import OperationTable\n",
    "\n",
    "A4 = AlternatingGroup(4)\n",
    "otab = OperationTable(A4, operation=lambda x, y: x * y, names='digits')\n",
    "\n",
    "otab"
   ]
  },
  {
   "cell_type": "markdown",
   "id": "4e6b768e",
   "metadata": {},
   "source": [
    "### Exercises"
   ]
  },
  {
   "cell_type": "code",
   "execution_count": 17,
   "id": "cb6e5b13",
   "metadata": {},
   "outputs": [
    {
     "name": "stdout",
     "output_type": "stream",
     "text": [
      "8 == 8 True\n",
      "*  a b c d e f g h\n",
      " +----------------\n",
      "a| a b c d e f g h\n",
      "b| b c d e f g h a\n",
      "c| c d e f g h a b\n",
      "d| d e f g h a b c\n",
      "e| e f g h a b c d\n",
      "f| f g h a b c d e\n",
      "g| g h a b c d e f\n",
      "h| h a b c d e f g\n",
      "\n",
      "*  a b c d e f g h\n",
      " +----------------\n",
      "a| a b c d e f g h\n",
      "b| b a d c f e h g\n",
      "c| c g a e d h b f\n",
      "d| d h b f c g a e\n",
      "e| e f g h a b c d\n",
      "f| f e h g b a d c\n",
      "g| g c e a h d f b\n",
      "h| h d f b g c e a\n",
      "\n",
      "False\n"
     ]
    }
   ],
   "source": [
    "C8 = CyclicPermutationGroup(8)\n",
    "D4 = DihedralGroup(4)\n",
    "\n",
    "print(f'{C8.order()} == {D4.order()}', C8.order() == D4.order())\n",
    "\n",
    "print(C8.cayley_table())\n",
    "print(D4.cayley_table())\n",
    "\n",
    "print(D4.is_abelian())"
   ]
  },
  {
   "cell_type": "code",
   "execution_count": null,
   "id": "52c94c05",
   "metadata": {},
   "outputs": [],
   "source": []
  }
 ],
 "metadata": {
  "kernelspec": {
   "display_name": "SageMath 10.3",
   "language": "sage",
   "name": "sagemath-10.3"
  },
  "language_info": {
   "codemirror_mode": {
    "name": "ipython",
    "version": 3
   },
   "file_extension": ".py",
   "mimetype": "text/x-python",
   "name": "python",
   "nbconvert_exporter": "python",
   "pygments_lexer": "ipython3",
   "version": "3.11.1"
  }
 },
 "nbformat": 4,
 "nbformat_minor": 5
}
