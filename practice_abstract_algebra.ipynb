{
 "cells": [
  {
   "cell_type": "markdown",
   "id": "1181a982-140d-43fa-bada-da926d960308",
   "metadata": {},
   "source": [
    "# Sage Exercise and Practices\n",
    "\n",
    "This notebook follows the book [Abstract Algebra: Theory and Applications](http://abstract.ups.edu/sage-aata.html). \n",
    "\n",
    "It is a collection of exercises and practices that I have done while reading the book. Hope this notebook can be useful for those who are learning abstract algebra using SageMath."
   ]
  },
  {
   "cell_type": "code",
   "execution_count": 1,
   "id": "1d8c6199",
   "metadata": {},
   "outputs": [],
   "source": [
    "from sage import *\n",
    "from sage.all import *\n",
    "from sage.groups.matrix_gps.finitely_generated import *\n",
    "from IPython.display import Markdown, display"
   ]
  },
  {
   "cell_type": "markdown",
   "id": "8af0f90e",
   "metadata": {},
   "source": [
    "## Chapter 2: Integers"
   ]
  },
  {
   "cell_type": "code",
   "execution_count": 2,
   "id": "c95da002-7937-46e9-85bf-22a3b24d0834",
   "metadata": {},
   "outputs": [
    {
     "name": "stdout",
     "output_type": "stream",
     "text": [
      "2^3 * 3 * 59 * 87187\n"
     ]
    },
    {
     "data": {
      "text/plain": [
       "4"
      ]
     },
     "execution_count": 2,
     "metadata": {},
     "output_type": "execute_result"
    }
   ],
   "source": [
    "# 2.3.1\n",
    "print(factor(123456792))\n",
    "\n",
    "# 2.3.2\n",
    "gcd(84, 52)"
   ]
  },
  {
   "cell_type": "code",
   "execution_count": 3,
   "id": "d2704566",
   "metadata": {},
   "outputs": [
    {
     "name": "stdout",
     "output_type": "stream",
     "text": [
      "13\n"
     ]
    }
   ],
   "source": [
    "# 2.5.2 the Ackermann function\n",
    "def ack(x, y):\n",
    "    if x == 0: return y+1\n",
    "    elif y == 0: return ack(x-1, 1)\n",
    "    else:\n",
    "        return ack(x-1, ack(x, y-1))\n",
    "\n",
    "print(ack(3, 1))\n",
    "\n",
    "# NOTE: this recursion can be really deep."
   ]
  },
  {
   "cell_type": "code",
   "execution_count": 4,
   "id": "824fc213",
   "metadata": {},
   "outputs": [
    {
     "name": "stdout",
     "output_type": "stream",
     "text": [
      "(10037, 16)\n",
      "False\n",
      "12\n",
      "(12, -10, 993)\n",
      "12\n"
     ]
    }
   ],
   "source": [
    "# 2.7\n",
    "a = 1234567\n",
    "b = 123\n",
    "print(a.quo_rem(b))\n",
    "print(a.divides(b))\n",
    "\n",
    "print(gcd(1235688, 12444))\n",
    "print(xgcd(1235688, 12444))\n",
    "\n",
    "d, r, s = xgcd(1235688, 12444)  # gcd(a, b) = d = r * a + s * b\n",
    "print(r * 1235688 + s * 12444)"
   ]
  },
  {
   "cell_type": "code",
   "execution_count": 5,
   "id": "b06fb703",
   "metadata": {},
   "outputs": [
    {
     "name": "stdout",
     "output_type": "stream",
     "text": [
      "True\n",
      "3^2 * 547\n",
      "739\n",
      "[101, 103, 107, 109]\n",
      "2^3\n",
      "5^3\n",
      "43^1\n"
     ]
    }
   ],
   "source": [
    "# Prime, factors, and random prime.\n",
    "\n",
    "print(is_prime(430400923))\n",
    "\n",
    "print(factor(4923))\n",
    "\n",
    "print(random_prime(1000, proof=True))\n",
    "\n",
    "print(prime_range(100, 110))\n",
    "\n",
    "a = 43000\n",
    "for prime_factor, exponent in a.factor():\n",
    "    print(f\"{prime_factor}^{exponent}\")"
   ]
  },
  {
   "cell_type": "code",
   "execution_count": 6,
   "id": "30e4c472",
   "metadata": {},
   "outputs": [
    {
     "name": "stdout",
     "output_type": "stream",
     "text": [
      "a = 53691541, b = 15569537\n",
      "gcd(a, b) = 1\n",
      "gcd(a, b) = 1 = -1825226 * 53691541 + 6294291 * 15569537\n"
     ]
    }
   ],
   "source": [
    "# Exercise\n",
    "a = random_prime(10^8, proof=True)\n",
    "b = random_prime(10^8, proof=True)\n",
    "\n",
    "print(f\"a = {a}, b = {b}\")\n",
    "\n",
    "assert a.is_prime() and b.is_prime()\n",
    "\n",
    "print(f\"gcd(a, b) = {gcd(a, b)}\")\n",
    "\n",
    "d, r, s = xgcd(a, b)\n",
    "\n",
    "print(f\"gcd(a, b) = {d} = {r} * {a} + {s} * {b}\")"
   ]
  },
  {
   "cell_type": "code",
   "execution_count": 7,
   "id": "85d8c6e8",
   "metadata": {},
   "outputs": [
    {
     "data": {
      "text/plain": [
       "2 * 3^2 * 7 * 36492359"
      ]
     },
     "execution_count": 7,
     "metadata": {},
     "output_type": "execute_result"
    }
   ],
   "source": [
    "c = 4598037234\n",
    "c.factor()"
   ]
  },
  {
   "cell_type": "code",
   "execution_count": 8,
   "id": "64519deb",
   "metadata": {},
   "outputs": [
    {
     "name": "stdout",
     "output_type": "stream",
     "text": [
      "True\n",
      "False\n"
     ]
    }
   ],
   "source": [
    "print(ZZ(7).divides(c))\n",
    "print(ZZ(11).divides(c))"
   ]
  },
  {
   "cell_type": "markdown",
   "id": "9519773a",
   "metadata": {},
   "source": [
    "## Chapter 3: Groups"
   ]
  },
  {
   "cell_type": "markdown",
   "id": "d7dd412d",
   "metadata": {},
   "source": [
    "### Integer Ring and Basic Operations"
   ]
  },
  {
   "cell_type": "code",
   "execution_count": 9,
   "id": "b5d8a5e8",
   "metadata": {},
   "outputs": [
    {
     "name": "stdout",
     "output_type": "stream",
     "text": [
      "<class 'sage.rings.finite_rings.integer_mod_ring.IntegerModRing_generic_with_category'>\n",
      "[0, 1, 2, 3, 4, 5, 6, 7]\n",
      "0\n",
      "Ring of integers modulo 8\n",
      "+  0 1 2 3 4 5 6 7\n",
      " +----------------\n",
      "0| 0 1 2 3 4 5 6 7\n",
      "1| 1 2 3 4 5 6 7 0\n",
      "2| 2 3 4 5 6 7 0 1\n",
      "3| 3 4 5 6 7 0 1 2\n",
      "4| 4 5 6 7 0 1 2 3\n",
      "5| 5 6 7 0 1 2 3 4\n",
      "6| 6 7 0 1 2 3 4 5\n",
      "7| 7 0 1 2 3 4 5 6\n",
      "\n"
     ]
    }
   ],
   "source": [
    "Z8 = Integers(8) # Create the ring of integers modulo 8.\n",
    "print(type(Z8))  # Print type information.\n",
    "print(Z8.list()) # Print the elements of the ring.\n",
    "\n",
    "a = Z8.an_element()  # Get a random element of the ring.\n",
    "print(a)\n",
    "print(a.parent())\n",
    "print(Z8.addition_table(names='elements')) # Operation table."
   ]
  },
  {
   "cell_type": "markdown",
   "id": "208bb803",
   "metadata": {},
   "source": [
    "### Symmetric Group"
   ]
  },
  {
   "cell_type": "code",
   "execution_count": 10,
   "id": "5cdd3b07",
   "metadata": {},
   "outputs": [
    {
     "name": "stdout",
     "output_type": "stream",
     "text": [
      "(1,3,2)\n",
      "{1, 2, 3}\n",
      "[3, 1, 2]\n",
      "()\n",
      "      *       ()   (2,3)   (1,2) (1,2,3) (1,3,2)   (1,3)\n",
      "       +------------------------------------------------\n",
      "     ()|      ()   (2,3)   (1,2) (1,2,3) (1,3,2)   (1,3)\n",
      "  (2,3)|   (2,3)      () (1,2,3)   (1,2)   (1,3) (1,3,2)\n",
      "  (1,2)|   (1,2) (1,3,2)      ()   (1,3)   (2,3) (1,2,3)\n",
      "(1,2,3)| (1,2,3)   (1,3)   (2,3) (1,3,2)      ()   (1,2)\n",
      "(1,3,2)| (1,3,2)   (1,2)   (1,3)      () (1,2,3)   (2,3)\n",
      "  (1,3)|   (1,3) (1,2,3) (1,3,2)   (2,3)   (1,2)      ()\n",
      "\n",
      " *  id u1 u3 r1 r2 u2\n",
      "  +------------------\n",
      "id| id u1 u3 r1 r2 u2\n",
      "u1| u1 id r1 u3 u2 r2\n",
      "u3| u3 r2 id u2 u1 r1\n",
      "r1| r1 u2 u1 r2 id u3\n",
      "r2| r2 u3 u2 id r1 u1\n",
      "u2| u2 r1 r2 u1 u3 id\n",
      "\n"
     ]
    }
   ],
   "source": [
    "triangle = SymmetricGroup(3)\n",
    "rho2 = triangle([3, 1, 2]) # Bottom row of the 'double-row' notation.\n",
    "print(rho2) # Cycle notation.\n",
    "print(triangle.domain()) # The underlying set.\n",
    "print(rho2(triangle.domain().list())) # Apply the permutation to the domain.\n",
    "\n",
    "mu1 = triangle([2, 3, 1])\n",
    "print(mu1 * rho2) # Composition of permutations.\n",
    "\n",
    "print(triangle.cayley_table(names='elements')) # Cayley table.\n",
    "\n",
    "print(triangle.cayley_table(names=[\"id\", \"u1\", \"u3\", \"r1\", \"r2\", \"u2\"])) # Cayley table with custom names."
   ]
  },
  {
   "cell_type": "markdown",
   "id": "7c09eac4",
   "metadata": {},
   "source": [
    "### Quarternions"
   ]
  },
  {
   "cell_type": "code",
   "execution_count": 11,
   "id": "681e1ee0",
   "metadata": {},
   "outputs": [
    {
     "name": "stdout",
     "output_type": "stream",
     "text": [
      "*  a b c d e f g h\n",
      " +----------------\n",
      "a| a b c d e f g h\n",
      "b| b c d a h e f g\n",
      "c| c d a b g h e f\n",
      "d| d a b c f g h e\n",
      "e| e f g h c d a b\n",
      "f| f g h e b c d a\n",
      "g| g h e f a b c d\n",
      "h| h e f g d a b c\n",
      "\n",
      "[1, 4, 2, 4, 4, 4, 4, 4]\n",
      "True\n"
     ]
    }
   ],
   "source": [
    "Q = QuaternionGroup()\n",
    "print(q_cayley := Q.cayley_table(names='letters')) # Cayley table.\n",
    "\n",
    "identity = Q.identity()  # Obviously 'a' is the identity.\n",
    "\n",
    "print([x.order() for x in q_cayley.column_keys()])  # Orders of the elements.\n",
    "\n",
    "# We found that 'c' is the only element of order 2, 'c' should be -1.\n",
    "minus_one = q_cayley.column_keys()[2]\n",
    "\n",
    "print(minus_one * minus_one == identity) # Verify\n",
    "\n"
   ]
  },
  {
   "cell_type": "markdown",
   "id": "21c8a3ea",
   "metadata": {},
   "source": [
    "### The Colplex Numbers"
   ]
  },
  {
   "cell_type": "code",
   "execution_count": 12,
   "id": "a53ead5f",
   "metadata": {},
   "outputs": [
    {
     "name": "stdout",
     "output_type": "stream",
     "text": [
      " *   1 -1\n",
      "  +------\n",
      " 1|  1 -1\n",
      "-1| -1  1\n",
      "\n",
      " *   1 -1  i -i\n",
      "  +------------\n",
      " 1|  1 -1  i -i\n",
      "-1| -1  1 -i  i\n",
      " i|  i -i -1  1\n",
      "-i| -i  i  1 -1\n",
      "\n"
     ]
    }
   ],
   "source": [
    "H = [CC(1), CC(-1)]\n",
    "print(CC.multiplication_table(elements=H, names=['1', '-1'])) # Multiplication table.\n",
    "\n",
    "H = [CC(1), CC(-1), CC(I), CC(-I)]\n",
    "print(CC.multiplication_table(elements=H, names=['1', '-1', 'i', '-i'])) # Multiplication table."
   ]
  },
  {
   "cell_type": "markdown",
   "id": "e98a0cfc",
   "metadata": {},
   "source": [
    "### Fancy Operation Table"
   ]
  },
  {
   "cell_type": "code",
   "execution_count": 13,
   "id": "4dd26e41",
   "metadata": {},
   "outputs": [
    {
     "name": "stdout",
     "output_type": "stream",
     "text": [
      ".  a b c d e f g h i j k l\n",
      " +------------------------\n",
      "a| a b c d e f g h i j k l\n",
      "b| b c a f d e h i g l j k\n",
      "c| c a b e f d i g h k l j\n",
      "d| d g j a h k b e l c f i\n",
      "e| e i k c g l a f j b d h\n",
      "f| f h l b i j c d k a e g\n",
      "g| g j d k a h e l b i c f\n",
      "h| h l f j b i d k c g a e\n",
      "i| i k e l c g f j a h b d\n",
      "j| j d g h k a l b e f i c\n",
      "k| k e i g l c j a f d h b\n",
      "l| l f h i j b k c d e g a\n",
      "\n"
     ]
    }
   ],
   "source": [
    "from sage.matrix.operation_table import OperationTable\n",
    "\n",
    "A4 = AlternatingGroup(4)\n",
    "print(otab := OperationTable(A4, operation=lambda x, y: x * y, names='letters'))"
   ]
  },
  {
   "cell_type": "code",
   "execution_count": 14,
   "id": "67aed308",
   "metadata": {},
   "outputs": [
    {
     "data": {
      "image/png": "[encoded data removed]",
      "text/plain": [
       "Graphics object consisting of 145 graphics primitives"
      ]
     },
     "execution_count": 14,
     "metadata": {},
     "output_type": "execute_result"
    }
   ],
   "source": [
    "# Color table.\n",
    "# This is really cool.\n",
    "otab.color_table()"
   ]
  },
  {
   "cell_type": "markdown",
   "id": "4e6b768e",
   "metadata": {},
   "source": [
    "### Exercises"
   ]
  },
  {
   "cell_type": "code",
   "execution_count": 15,
   "id": "cb6e5b13",
   "metadata": {},
   "outputs": [
    {
     "name": "stdout",
     "output_type": "stream",
     "text": [
      "8 == 8 True\n",
      "*  a b c d e f g h\n",
      " +----------------\n",
      "a| a b c d e f g h\n",
      "b| b c d e f g h a\n",
      "c| c d e f g h a b\n",
      "d| d e f g h a b c\n",
      "e| e f g h a b c d\n",
      "f| f g h a b c d e\n",
      "g| g h a b c d e f\n",
      "h| h a b c d e f g\n",
      "\n",
      "*  a b c d e f g h\n",
      " +----------------\n",
      "a| a b c d e f g h\n",
      "b| b a d c f e h g\n",
      "c| c g a e d h b f\n",
      "d| d h b f c g a e\n",
      "e| e f g h a b c d\n",
      "f| f e h g b a d c\n",
      "g| g c e a h d f b\n",
      "h| h d f b g c e a\n",
      "\n",
      "False\n"
     ]
    }
   ],
   "source": [
    "C8 = CyclicPermutationGroup(8)\n",
    "D4 = DihedralGroup(4)\n",
    "\n",
    "print(f'{C8.order()} == {D4.order()}', C8.order() == D4.order())\n",
    "\n",
    "print(C8.cayley_table())\n",
    "print(D4.cayley_table())\n",
    "\n",
    "print(D4.is_abelian())"
   ]
  },
  {
   "cell_type": "code",
   "execution_count": 16,
   "id": "52c94c05",
   "metadata": {},
   "outputs": [
    {
     "name": "stdout",
     "output_type": "stream",
     "text": [
      "*  a b c d\n",
      " +--------\n",
      "a| a b c d\n",
      "b| b c d a\n",
      "c| c d a b\n",
      "d| d a b c\n",
      "\n",
      "*  a b c d\n",
      " +--------\n",
      "a| a b c d\n",
      "b| b a d c\n",
      "c| c d a b\n",
      "d| d c b a\n",
      "\n",
      "*  a b c d\n",
      " +--------\n",
      "a| a b c d\n",
      "b| b c d a\n",
      "c| c d a b\n",
      "d| d a b c\n",
      "\n",
      "*  a b c d\n",
      " +--------\n",
      "a| a b c d\n",
      "b| b a d c\n",
      "c| c d a b\n",
      "d| d c b a\n",
      "\n"
     ]
    }
   ],
   "source": [
    "# Find the subgroup with order 4 in 'C'.\n",
    "H1 = [x for x in C8.subgroups() if x.order() == 4][0]\n",
    "\n",
    "# Find the three subgroups with order 4 in 'D'.\n",
    "H2 = [x for x in D4.subgroups() if x.order() == 4][0]\n",
    "H3 = [x for x in D4.subgroups() if x.order() == 4][1]\n",
    "H4 = [x for x in D4.subgroups() if x.order() == 4][2]\n",
    "\n",
    "print(H1.cayley_table())\n",
    "print(H2.cayley_table())\n",
    "print(H3.cayley_table())\n",
    "print(H4.cayley_table())\n",
    "\n",
    "# H1 and H3 have the same Cayley table."
   ]
  },
  {
   "cell_type": "markdown",
   "id": "801d39ba",
   "metadata": {},
   "source": [
    "## Chapter 4: Cyclic Groups"
   ]
  },
  {
   "cell_type": "markdown",
   "id": "3831adc0",
   "metadata": {},
   "source": [
    "### Matrix Groups"
   ]
  },
  {
   "cell_type": "code",
   "execution_count": 17,
   "id": "af28f39b",
   "metadata": {},
   "outputs": [
    {
     "data": {
      "text/markdown": [
       "Actually its $GL_2(\\mathbb{Q})$, but I can't figure out the way to deal with subgroups of $GL_2(\\mathbb{R})$. It just doesn't works."
      ],
      "text/plain": [
       "<IPython.core.display.Markdown object>"
      ]
     },
     "metadata": {},
     "output_type": "display_data"
    },
    {
     "data": {
      "text/plain": [
       "(\n",
       "[1 0]  [-1  0]  [ 0 -1]  [ 0  1]\n",
       "[0 1], [ 0 -1], [ 1  0], [-1  0]\n",
       ")"
      ]
     },
     "metadata": {},
     "output_type": "display_data"
    },
    {
     "data": {
      "text/plain": [
       "(\n",
       "[1 0]  [  0 1/3]\n",
       "[0 1], [  3   0]\n",
       ")"
      ]
     },
     "metadata": {},
     "output_type": "display_data"
    },
    {
     "data": {
      "text/plain": [
       "(\n",
       "[1 0]  [ 0  1]  [-1  1]  [-1  0]  [ 0 -1]  [ 1 -1]\n",
       "[0 1], [-1  1], [-1  0], [ 0 -1], [ 1 -1], [ 1  0]\n",
       ")"
      ]
     },
     "metadata": {},
     "output_type": "display_data"
    },
    {
     "name": "stdout",
     "output_type": "stream",
     "text": [
      "+Infinity\n",
      "+Infinity\n"
     ]
    }
   ],
   "source": [
    "display(Markdown(\"Actually its $GL_2(\\mathbb{Q})$, but I can't figure out the way to deal with subgroups of $GL_2(\\mathbb{R})$. It just doesn't works.\"))\n",
    "\n",
    "# Exercise 4.5.4\n",
    "# Use `print` to display the elements of matrix group is just... ugly.\n",
    "display(MatrixGroup(Matrix(QQ, 2, [0, 1, -1, 0])).list())  # a\n",
    "display(MatrixGroup(Matrix(QQ, 2, [0, 1/3, 3, 0])).list()) # b\n",
    "display(MatrixGroup(Matrix(QQ, 2, [1, -1, 1, 0])).list())  # c\n",
    "print(MatrixGroup(Matrix(QQ, 2, [1, -1, 0, 1])).order())   # d, Infinite order.\n",
    "print(MatrixGroup(Matrix(QQ, 2, [1, -1, -1, 0])).order())  # e, Infinite order.\n",
    "# f, which is a rotation matrix with 30 degrees, has an order of 12."
   ]
  },
  {
   "cell_type": "markdown",
   "id": "6bd3ae80",
   "metadata": {},
   "source": [
    "### Additive Cylic Groups"
   ]
  },
  {
   "cell_type": "code",
   "execution_count": 18,
   "id": "5dfcb08f",
   "metadata": {},
   "outputs": [
    {
     "name": "stdout",
     "output_type": "stream",
     "text": [
      "100\n",
      "(1)\n",
      "(23)\n",
      "100\n",
      "Additive abelian group isomorphic to Z/5\n",
      "[(0), (20), (40), (60), (80)]\n"
     ]
    }
   ],
   "source": [
    "G = AdditiveAbelianGroup([100])     # Z/100Z.\n",
    "print(G.order())                    # Order of G.\n",
    "print(a := G.gen(0))                # A generator of G.\n",
    "print(a * 123)                      # 123 * a.\n",
    "print(G([3]).order())               # Order of 3 in Z/100Z.\n",
    "print(H := G.submodule([G([20])]))  # Subgroup generated by 20.\n",
    "print(H.list())                     # List the elements of H.\n"
   ]
  },
  {
   "cell_type": "markdown",
   "id": "abbed198",
   "metadata": {},
   "source": [
    "### Multiplicative Cyclic Groups\n",
    "This will define a cyclic group in a different way.\n",
    "$$G=\\{a^k:k\\in\\mathbb{Z}\\}$$"
   ]
  },
  {
   "cell_type": "code",
   "execution_count": 19,
   "id": "f90050f0",
   "metadata": {},
   "outputs": [
    {
     "name": "stdout",
     "output_type": "stream",
     "text": [
      "15\n",
      "(1, a, a^2, a^3, a^4, a^5, a^6, a^7, a^8, a^9, a^10, a^11, a^12, a^13, a^14)\n",
      "a^3\n",
      "5\n",
      "Multiplicative Abelian subgroup isomorphic to C5 generated by {a^3}\n",
      "(1, f, f^2, f^3, f^4)\n",
      "[Multiplicative Abelian subgroup isomorphic to C3 x C5 generated by {a}, Multiplicative Abelian subgroup isomorphic to C5 generated by {a^3}, Multiplicative Abelian subgroup isomorphic to C3 generated by {a^5}, Trivial Abelian subgroup]\n"
     ]
    }
   ],
   "source": [
    "G.<a> = AbelianGroup([15])  # type: ignore <- For surpressing the warning.\n",
    "print(G.order())            # Order of G.\n",
    "print(G.list())             # List the elements of G.\n",
    "print(b := a^3)             # b = a^3.\n",
    "print(b.order())            # Order of b.\n",
    "print(H := G.subgroup([b])) # Subgroup generated by b.\n",
    "print(H.list())             # List the elements of H.\n",
    "print(G.subgroups())        # This is an advntage of defining a cyclic group with this way: Subgroups!"
   ]
  },
  {
   "cell_type": "markdown",
   "id": "6950ba9e",
   "metadata": {},
   "source": [
    "### Cyclic Permutation Groups\n",
    "This will define a cyclic group in an even different way: as a group of permutations."
   ]
  },
  {
   "cell_type": "code",
   "execution_count": 20,
   "id": "ca949e34",
   "metadata": {},
   "outputs": [
    {
     "name": "stdout",
     "output_type": "stream",
     "text": [
      "(1,2,3,4,5,6,7,8,9,10,11,12)\n",
      "(1,5,9)(2,6,10)(3,7,11)(4,8,12)\n",
      "3\n",
      "Subgroup generated by [(1,5,9)(2,6,10)(3,7,11)(4,8,12)] of (Cyclic group of order 12 as a permutation group)\n",
      "[(), (1,5,9)(2,6,10)(3,7,11)(4,8,12), (1,9,5)(2,10,6)(3,11,7)(4,12,8)]\n"
     ]
    }
   ],
   "source": [
    "G = CyclicPermutationGroup(12)  # Cyclic group of order 12 as a permutation group.\n",
    "print(a := G.gen(0))            # A generator of G.\n",
    "print(b := a^4)                 # b = a^4.\n",
    "print(b.order())                # Order of b.\n",
    "print(H := G.subgroup([b]))     # Subgroup generated by b.\n",
    "print(H.list())                 # List the elements of H."
   ]
  },
  {
   "cell_type": "markdown",
   "id": "567b1c9d",
   "metadata": {},
   "source": [
    "### Cayley Tables"
   ]
  },
  {
   "cell_type": "code",
   "execution_count": 21,
   "id": "8625ef49",
   "metadata": {},
   "outputs": [
    {
     "name": "stdout",
     "output_type": "stream",
     "text": [
      "*  a b c d e f g h i j k l\n",
      " +------------------------\n",
      "a| a b c d e f g h i j k l\n",
      "b| b c d e f g h i j k l a\n",
      "c| c d e f g h i j k l a b\n",
      "d| d e f g h i j k l a b c\n",
      "e| e f g h i j k l a b c d\n",
      "f| f g h i j k l a b c d e\n",
      "g| g h i j k l a b c d e f\n",
      "h| h i j k l a b c d e f g\n",
      "i| i j k l a b c d e f g h\n",
      "j| j k l a b c d e f g h i\n",
      "k| k l a b c d e f g h i j\n",
      "l| l a b c d e f g h i j k\n",
      "\n"
     ]
    },
    {
     "data": {
      "image/png": "[encoded data removed]",
      "text/plain": [
       "Graphics object consisting of 145 graphics primitives"
      ]
     },
     "metadata": {},
     "output_type": "display_data"
    }
   ],
   "source": [
    "G.<a> = AbelianGroup([12])              # type: ignore Z/12Z.\n",
    "print(G.cayley_table())                 # Cayley table of G.\n",
    "display(G.cayley_table().color_table()) # Remember the fancy color table?"
   ]
  },
  {
   "cell_type": "markdown",
   "id": "49f6eb77",
   "metadata": {},
   "source": [
    "### Cycle Groups: Root of Unity"
   ]
  },
  {
   "cell_type": "code",
   "execution_count": 22,
   "id": "eb674044",
   "metadata": {},
   "outputs": [
    {
     "name": "stdout",
     "output_type": "stream",
     "text": [
      "zeta6\n",
      "0.5000000000000001 + 0.8660254037844386*I\n",
      "59.99999999999999\n"
     ]
    }
   ],
   "source": [
    "G = CyclotomicField(6)              # The field of 6th roots of unity.\n",
    "print(w := G.gen(0))                # A generator of G.\n",
    "print(CDF(w))                       # Convert to complex number.\n",
    "print((CDF(w).arg() * 180) / N(pi)) # Argument in degrees."
   ]
  },
  {
   "cell_type": "markdown",
   "id": "01e4b514",
   "metadata": {},
   "source": [
    "### Exercises"
   ]
  },
  {
   "cell_type": "code",
   "execution_count": 23,
   "id": "bd4c3b86",
   "metadata": {},
   "outputs": [
    {
     "name": "stdout",
     "output_type": "stream",
     "text": [
      "Ring of integers modulo 40\n",
      "[0, 1, 2, 3, 4, 5, 6, 7, 8, 9, 10, 11, 12, 13, 14, 15, 16, 17, 18, 19, 20, 21, 22, 23, 24, 25, 26, 27, 28, 29, 30, 31, 32, 33, 34, 35, 36, 37, 38, 39]\n",
      "16\n",
      "[1, 3, 7, 9, 11, 13, 17, 19, 21, 23, 27, 29, 31, 33, 37, 39]\n",
      "((31, 21, 17), (31, 21, 9), (31, 13), (21, 7), (11, 7), (31, 21), (31, 29), (39, 21), (39, 29), (31, 17), (31, 9), (7,), (31,), (39,), (11, 17), (11, 9), (27,), (11,), (19,), (21, 17), (21, 9), (37,), (21,), (29,), (17,), (9,), ())\n",
      "[1, 7, 9, 23, 1, 7, 9, 23, 1, 7, 9, 23, 1, 7, 9, 23]\n",
      "4\n",
      "Multiplicative Abelian group isomorphic to C2 x C2 x C4\n",
      "Ring of integers modulo 49\n",
      "True\n",
      "[1, 2, 3, 4, 5, 6, 8, 9, 10, 11, 12, 13, 15, 16, 17, 18, 19, 20, 22, 23, 24, 25, 26, 27, 29, 30, 31, 32, 33, 34, 36, 37, 38, 39, 40, 41, 43, 44, 45, 46, 47, 48]\n",
      "42\n",
      "{1: 1, 2: 42, 3: 42, 4: 42, 5: 42, 6: 42, 8: 42, 9: 42, 10: 42, 11: 42, 12: 42, 13: 42, 15: 42, 16: 42, 17: 42, 18: 42, 19: 42, 20: 42, 22: 42, 23: 42, 24: 42, 25: 42, 26: 42, 27: 42, 29: 42, 30: 42, 31: 42, 32: 42, 33: 42, 34: 42, 36: 42, 37: 42, 38: 42, 39: 42, 40: 42, 41: 42, 43: 42, 44: 42, 45: 42, 46: 42, 47: 42, 48: 42}\n",
      "Multiplicative Abelian group isomorphic to C42\n",
      "Ring of integers modulo 35\n",
      "[1, 2, 3, 4, 6, 8, 9, 11, 12, 13, 16, 17, 18, 19, 22, 23, 24, 26, 27, 29, 31, 32, 33, 34]\n",
      "{1: 1, 2: 24, 3: 24, 4: 24, 6: 24, 8: 24, 9: 24, 11: 24, 12: 24, 13: 24, 16: 24, 17: 24, 18: 24, 19: 24, 22: 24, 23: 24, 24: 24, 26: 24, 27: 24, 29: 24, 31: 24, 32: 24, 33: 24, 34: 24}\n",
      "Multiplicative Abelian group isomorphic to C4 x C6\n"
     ]
    }
   ],
   "source": [
    "# Exercise 1\n",
    "print(Z40 := Integers(40))                              # Z/40Z\n",
    "print(Z40.list())\n",
    "print(Z40.unit_group_order())                           # |U(40)|\n",
    "print(Z40.list_of_elements_of_multiplicative_group())   # U(40)\n",
    "print(Z40.multiplicative_subgroups())                   # Subgroups of U(40)\n",
    "\n",
    "# Exercise 2\n",
    "a = Z40(7)                                              # let a = 7\n",
    "print([a^i for i in range(16)])                         # The powers of a in U(40).\n",
    "print(len({a^i for i in range(16)}))                    # The order of a in U(40).\n",
    "print(Z40.unit_group())\n",
    "\n",
    "# Exercise 3\n",
    "print(Z49 := Integers(49))                              # Z/49Z\n",
    "print(Z49.multiplicative_group_is_cyclic())\n",
    "print(Z49_units := Z49.list_of_elements_of_multiplicative_group())\n",
    "print(len(Z49_units))\n",
    "print({a: len({a^i for i in range(len(Z49_units))}) for a in Z49_units})\n",
    "print(Z49.unit_group())\n",
    "\n",
    "# Exercise 4\n",
    "print(Z35 := Integers(35))   \n",
    "print(Z35_units := Z35.list_of_elements_of_multiplicative_group())\n",
    "print({a: len({a^i for i in range(len(Z35_units))}) for a in Z35_units})\n",
    "print(Z35.unit_group())\n"
   ]
  },
  {
   "cell_type": "markdown",
   "id": "41266d9e",
   "metadata": {},
   "source": [
    "# Chapter 5: Permutation Groups"
   ]
  },
  {
   "cell_type": "markdown",
   "id": "7b074849",
   "metadata": {},
   "source": [
    "### Basic Definitions and Notations"
   ]
  },
  {
   "cell_type": "code",
   "execution_count": 24,
   "id": "877c3a44",
   "metadata": {},
   "outputs": [
    {
     "name": "stdout",
     "output_type": "stream",
     "text": [
      "720\n",
      "(1,4,2,5,3,6)\n",
      "{1, 2, 3, 4, 5, 6}\n",
      "[4, 5, 6, 2, 3, 1]\n"
     ]
    }
   ],
   "source": [
    "Sym6 = SymmetricGroup(6)                # S6\n",
    "print(Sym6.order())                     # |S6| should be 6! = 720\n",
    "print(perm := Sym6((1, 4, 2, 5, 3, 6))) # Define a permutation.\n",
    "print(Sym6.domain())                    # The underlying set.\n",
    "print(perm(list(Sym6.domain())))        # Apply the permutation to the domain, aka. the 2nd row of `double-row` notation."
   ]
  },
  {
   "cell_type": "code",
   "execution_count": 25,
   "id": "6e1dc04f",
   "metadata": {},
   "outputs": [
    {
     "data": {
      "text/plain": [
       "(1,4,2,5,3,6)"
      ]
     },
     "execution_count": 25,
     "metadata": {},
     "output_type": "execute_result"
    }
   ],
   "source": [
    "# The composition of permutations is evaulated from right to left.\n",
    "# But in Python, it is evaluated from left to right.\n",
    "Sym6(((3, 6))) * Sym6(((5, 3))) * Sym6((2, 5)) * Sym6((4, 2)) * Sym6((1, 4))"
   ]
  },
  {
   "cell_type": "markdown",
   "id": "bda3feeb",
   "metadata": {},
   "source": [
    "### Exercises"
   ]
  },
  {
   "cell_type": "code",
   "execution_count": 26,
   "id": "a367cd72",
   "metadata": {},
   "outputs": [
    {
     "name": "stdout",
     "output_type": "stream",
     "text": [
      "Symmetric group of order 10! as a permutation group\n",
      "(1,8,5,7,2,9,3)\n",
      "(1,3)(4,5)\n",
      "(1,2)(3,4)\n",
      "(1,3)(2,5,8)(4,6,7,9,10)\n",
      "(1,7,3,5,9,8,2)\n",
      "(1,2,3,5,4)\n",
      "(1,4,10,9,3)(2,7,8)(5,6)\n",
      "[1, 1, 1, -1]\n",
      "Subgroup generated by [(1,8,5,7,2,9,3)] of (Symmetric group of order 10! as a permutation group)\n",
      "Subgroup generated by [(1,3)(2,5,8)(4,6,7,9,10)] of (Symmetric group of order 10! as a permutation group)\n",
      "[(), (1,8,5,7,2,9,3), (1,5,2,3,8,7,9), (1,7,3,5,9,8,2), (1,2,8,9,5,3,7), (1,9,7,8,3,2,5), (1,3,9,2,7,5,8)]\n",
      "[(), (1,3)(2,5,8)(4,6,7,9,10), (2,8,5)(4,7,10,6,9), (1,3)(4,9,6,10,7), (2,5,8)(4,10,9,7,6), (1,3)(2,8,5), (4,6,7,9,10), (1,3)(2,5,8)(4,7,10,6,9), (2,8,5)(4,9,6,10,7), (1,3)(4,10,9,7,6), (2,5,8), (1,3)(2,8,5)(4,6,7,9,10), (4,7,10,6,9), (1,3)(2,5,8)(4,9,6,10,7), (2,8,5)(4,10,9,7,6), (1,3), (2,5,8)(4,6,7,9,10), (1,3)(2,8,5)(4,7,10,6,9), (4,9,6,10,7), (1,3)(2,5,8)(4,10,9,7,6), (2,8,5), (1,3)(4,6,7,9,10), (2,5,8)(4,7,10,6,9), (1,3)(2,8,5)(4,9,6,10,7), (4,10,9,7,6), (1,3)(2,5,8), (2,8,5)(4,6,7,9,10), (1,3)(4,7,10,6,9), (2,5,8)(4,9,6,10,7), (1,3)(2,8,5)(4,10,9,7,6)]\n",
      "Subgroup generated by [(1,3)(4,7,10,6,9)] of (Subgroup generated by [(1,3)(2,5,8)(4,6,7,9,10)] of (Symmetric group of order 10! as a permutation group))\n",
      "10\n",
      "Subgroup generated by [(1,2)(3,4), (1,3)(4,5)] of (Symmetric group of order 10! as a permutation group)\n",
      "[(), (1,4,5,3,2), (1,5,2,4,3), (1,3,4,2,5), (1,2,3,5,4), (2,4)(3,5), (1,4)(2,5), (1,5)(2,3), (1,3)(4,5), (1,2)(3,4)]\n"
     ]
    }
   ],
   "source": [
    "print(Sym10 := SymmetricGroup(10)) # S10\n",
    "print(a := Sym10(\"(5, 7, 2, 9, 3, 1, 8)\")) \n",
    "print(b := Sym10(\"(1, 3)(4, 5)\"))\n",
    "print(c := Sym10([(1, 2), (3, 4)]))\n",
    "print(d := Sym10([(1, 3), (2, 5, 8), (4, 6, 7, 9, 10)]))\n",
    "\n",
    "# Exercise 2-a: Composition of permutations.\n",
    "print(a^3)\n",
    "print(c * b)\n",
    "print(a * (d.inverse()) * b)\n",
    "\n",
    "#\n",
    "\n",
    "# Exercise 2-c: Even / Odd permutations.\n",
    "print([x.sign() for x in [a, b, c, d]])\n",
    "\n",
    "# Exercise 2-d: Subgroups analysis.\n",
    "print(H := Sym10.subgroup([a]))\n",
    "print(K := Sym10.subgroup([d]))\n",
    "print(H.list())\n",
    "print(K.list())\n",
    "print(K_subgroup := K.subgroup(         # Construct the subgroup with order 10.\n",
    "    [\n",
    "        Sym10([(1, 3), (4, 7, 10, 6, 9)])\n",
    "    ]))\n",
    "print(K_subgroup.order())\n",
    "print(L := Sym10.subgroup([b, c]))      # Subgroup generated by multiple generators.\n",
    "print(L.list())\n"
   ]
  },
  {
   "cell_type": "code",
   "execution_count": null,
   "id": "b28b1f6d",
   "metadata": {},
   "outputs": [],
   "source": []
  }
 ],
 "metadata": {
  "kernelspec": {
   "display_name": "SageMath 10.3 for VSCode",
   "language": "python",
   "name": "SageMath-10.3-vscode"
  },
  "language_info": {
   "codemirror_mode": {
    "name": "ipython",
    "version": 3
   },
   "file_extension": ".py",
   "mimetype": "text/x-python",
   "name": "python",
   "nbconvert_exporter": "python",
   "pygments_lexer": "ipython3",
   "version": "3.11.1"
  }
 },
 "nbformat": 4,
 "nbformat_minor": 5
}
