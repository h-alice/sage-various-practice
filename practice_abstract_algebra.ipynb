{
 "cells": [
  {
   "cell_type": "markdown",
   "id": "1181a982-140d-43fa-bada-da926d960308",
   "metadata": {},
   "source": [
    "# Sage Exercise and Practices\n",
    "\n",
    "This notebook follows the book [Abstract Algebra: Theory and Applications](http://abstract.ups.edu/sage-aata.html). \n",
    "\n",
    "It is a collection of exercises and practices that I have done while reading the book. Hope this notebook can be useful for those who are learning abstract algebra using SageMath."
   ]
  },
  {
   "cell_type": "code",
   "execution_count": 1,
   "id": "1d8c6199",
   "metadata": {},
   "outputs": [],
   "source": [
    "from sage import *\n",
    "from sage.all import *\n",
    "from sage.groups.matrix_gps.finitely_generated import *\n",
    "from IPython.display import Markdown, display"
   ]
  },
  {
   "cell_type": "markdown",
   "id": "8af0f90e",
   "metadata": {},
   "source": [
    "## Chapter 2: Integers"
   ]
  },
  {
   "cell_type": "code",
   "execution_count": 2,
   "id": "c95da002-7937-46e9-85bf-22a3b24d0834",
   "metadata": {},
   "outputs": [
    {
     "name": "stdout",
     "output_type": "stream",
     "text": [
      "2^3 * 3 * 59 * 87187\n"
     ]
    },
    {
     "data": {
      "text/plain": [
       "4"
      ]
     },
     "execution_count": 2,
     "metadata": {},
     "output_type": "execute_result"
    }
   ],
   "source": [
    "# 2.3.1\n",
    "print(factor(123456792))\n",
    "\n",
    "# 2.3.2\n",
    "gcd(84, 52)"
   ]
  },
  {
   "cell_type": "code",
   "execution_count": 3,
   "id": "d2704566",
   "metadata": {},
   "outputs": [
    {
     "name": "stdout",
     "output_type": "stream",
     "text": [
      "13\n"
     ]
    }
   ],
   "source": [
    "# 2.5.2 the Ackermann function\n",
    "def ack(x, y):\n",
    "    if x == 0: return y+1\n",
    "    elif y == 0: return ack(x-1, 1)\n",
    "    else:\n",
    "        return ack(x-1, ack(x, y-1))\n",
    "\n",
    "print(ack(3, 1))\n",
    "\n",
    "# NOTE: this recursion can be really deep."
   ]
  },
  {
   "cell_type": "code",
   "execution_count": 4,
   "id": "824fc213",
   "metadata": {},
   "outputs": [
    {
     "name": "stdout",
     "output_type": "stream",
     "text": [
      "(10037, 16)\n",
      "False\n",
      "12\n",
      "(12, -10, 993)\n",
      "12\n"
     ]
    }
   ],
   "source": [
    "# 2.7\n",
    "a = 1234567\n",
    "b = 123\n",
    "print(a.quo_rem(b))\n",
    "print(a.divides(b))\n",
    "\n",
    "print(gcd(1235688, 12444))\n",
    "print(xgcd(1235688, 12444))\n",
    "\n",
    "d, r, s = xgcd(1235688, 12444)  # gcd(a, b) = d = r * a + s * b\n",
    "print(r * 1235688 + s * 12444)"
   ]
  },
  {
   "cell_type": "code",
   "execution_count": 5,
   "id": "b06fb703",
   "metadata": {},
   "outputs": [
    {
     "name": "stdout",
     "output_type": "stream",
     "text": [
      "True\n",
      "3^2 * 547\n",
      "619\n",
      "[101, 103, 107, 109]\n",
      "2^3\n",
      "5^3\n",
      "43^1\n"
     ]
    }
   ],
   "source": [
    "# Prime, factors, and random prime.\n",
    "\n",
    "print(is_prime(430400923))\n",
    "\n",
    "print(factor(4923))\n",
    "\n",
    "print(random_prime(1000, proof=True))\n",
    "\n",
    "print(prime_range(100, 110))\n",
    "\n",
    "a = 43000\n",
    "for prime_factor, exponent in a.factor():\n",
    "    print(f\"{prime_factor}^{exponent}\")"
   ]
  },
  {
   "cell_type": "code",
   "execution_count": 6,
   "id": "30e4c472",
   "metadata": {},
   "outputs": [
    {
     "name": "stdout",
     "output_type": "stream",
     "text": [
      "a = 61291907, b = 44594521\n",
      "gcd(a, b) = 1\n",
      "gcd(a, b) = 1 = -20272160 * 61291907 + 27862601 * 44594521\n"
     ]
    }
   ],
   "source": [
    "# Exercise\n",
    "a = random_prime(10^8, proof=True)\n",
    "b = random_prime(10^8, proof=True)\n",
    "\n",
    "print(f\"a = {a}, b = {b}\")\n",
    "\n",
    "assert a.is_prime() and b.is_prime()\n",
    "\n",
    "print(f\"gcd(a, b) = {gcd(a, b)}\")\n",
    "\n",
    "d, r, s = xgcd(a, b)\n",
    "\n",
    "print(f\"gcd(a, b) = {d} = {r} * {a} + {s} * {b}\")"
   ]
  },
  {
   "cell_type": "code",
   "execution_count": 7,
   "id": "85d8c6e8",
   "metadata": {},
   "outputs": [
    {
     "data": {
      "text/plain": [
       "2 * 3^2 * 7 * 36492359"
      ]
     },
     "execution_count": 7,
     "metadata": {},
     "output_type": "execute_result"
    }
   ],
   "source": [
    "c = 4598037234\n",
    "c.factor()"
   ]
  },
  {
   "cell_type": "code",
   "execution_count": 8,
   "id": "64519deb",
   "metadata": {},
   "outputs": [
    {
     "name": "stdout",
     "output_type": "stream",
     "text": [
      "True\n",
      "False\n"
     ]
    }
   ],
   "source": [
    "print(7.divides(c))\n",
    "print(11.divides(c))"
   ]
  },
  {
   "cell_type": "markdown",
   "id": "9519773a",
   "metadata": {},
   "source": [
    "## Chapter 3: Groups"
   ]
  },
  {
   "cell_type": "markdown",
   "id": "d7dd412d",
   "metadata": {},
   "source": [
    "### Integer Ring and Basic Operations"
   ]
  },
  {
   "cell_type": "code",
   "execution_count": 9,
   "id": "b5d8a5e8",
   "metadata": {},
   "outputs": [
    {
     "name": "stdout",
     "output_type": "stream",
     "text": [
      "<class 'sage.rings.finite_rings.integer_mod_ring.IntegerModRing_generic_with_category'>\n",
      "[0, 1, 2, 3, 4, 5, 6, 7]\n",
      "0\n",
      "Ring of integers modulo 8\n",
      "+  0 1 2 3 4 5 6 7\n",
      " +----------------\n",
      "0| 0 1 2 3 4 5 6 7\n",
      "1| 1 2 3 4 5 6 7 0\n",
      "2| 2 3 4 5 6 7 0 1\n",
      "3| 3 4 5 6 7 0 1 2\n",
      "4| 4 5 6 7 0 1 2 3\n",
      "5| 5 6 7 0 1 2 3 4\n",
      "6| 6 7 0 1 2 3 4 5\n",
      "7| 7 0 1 2 3 4 5 6\n",
      "\n"
     ]
    }
   ],
   "source": [
    "Z8 = Integers(8) # Create the ring of integers modulo 8.\n",
    "print(type(Z8))  # Print type information.\n",
    "print(Z8.list()) # Print the elements of the ring.\n",
    "\n",
    "a = Z8.an_element()  # Get a random element of the ring.\n",
    "print(a)\n",
    "print(a.parent())\n",
    "print(Z8.addition_table(names='elements')) # Operation table."
   ]
  },
  {
   "cell_type": "markdown",
   "id": "208bb803",
   "metadata": {},
   "source": [
    "### Symmetric Group"
   ]
  },
  {
   "cell_type": "code",
   "execution_count": 10,
   "id": "5cdd3b07",
   "metadata": {},
   "outputs": [
    {
     "name": "stdout",
     "output_type": "stream",
     "text": [
      "(1,3,2)\n",
      "{1, 2, 3}\n",
      "[3, 1, 2]\n",
      "()\n",
      "      *       ()   (2,3)   (1,2) (1,2,3) (1,3,2)   (1,3)\n",
      "       +------------------------------------------------\n",
      "     ()|      ()   (2,3)   (1,2) (1,2,3) (1,3,2)   (1,3)\n",
      "  (2,3)|   (2,3)      () (1,2,3)   (1,2)   (1,3) (1,3,2)\n",
      "  (1,2)|   (1,2) (1,3,2)      ()   (1,3)   (2,3) (1,2,3)\n",
      "(1,2,3)| (1,2,3)   (1,3)   (2,3) (1,3,2)      ()   (1,2)\n",
      "(1,3,2)| (1,3,2)   (1,2)   (1,3)      () (1,2,3)   (2,3)\n",
      "  (1,3)|   (1,3) (1,2,3) (1,3,2)   (2,3)   (1,2)      ()\n",
      "\n",
      " *  id u1 u3 r1 r2 u2\n",
      "  +------------------\n",
      "id| id u1 u3 r1 r2 u2\n",
      "u1| u1 id r1 u3 u2 r2\n",
      "u3| u3 r2 id u2 u1 r1\n",
      "r1| r1 u2 u1 r2 id u3\n",
      "r2| r2 u3 u2 id r1 u1\n",
      "u2| u2 r1 r2 u1 u3 id\n",
      "\n"
     ]
    }
   ],
   "source": [
    "triangle = SymmetricGroup(3)\n",
    "rho2 = triangle([3, 1, 2]) # Bottom row of the 'double-row' notation.\n",
    "print(rho2) # Cycle notation.\n",
    "print(triangle.domain()) # The underlying set.\n",
    "print(rho2(triangle.domain().list())) # Apply the permutation to the domain.\n",
    "\n",
    "mu1 = triangle([2, 3, 1])\n",
    "print(mu1 * rho2) # Composition of permutations.\n",
    "\n",
    "print(triangle.cayley_table(names='elements')) # Cayley table.\n",
    "\n",
    "print(triangle.cayley_table(names=[\"id\", \"u1\", \"u3\", \"r1\", \"r2\", \"u2\"])) # Cayley table with custom names."
   ]
  },
  {
   "cell_type": "markdown",
   "id": "7c09eac4",
   "metadata": {},
   "source": [
    "### Quarternions"
   ]
  },
  {
   "cell_type": "code",
   "execution_count": 11,
   "id": "681e1ee0",
   "metadata": {},
   "outputs": [
    {
     "name": "stdout",
     "output_type": "stream",
     "text": [
      "*  a b c d e f g h\n",
      " +----------------\n",
      "a| a b c d e f g h\n",
      "b| b c d a h e f g\n",
      "c| c d a b g h e f\n",
      "d| d a b c f g h e\n",
      "e| e f g h c d a b\n",
      "f| f g h e b c d a\n",
      "g| g h e f a b c d\n",
      "h| h e f g d a b c\n",
      "\n",
      "[1, 4, 2, 4, 4, 4, 4, 4]\n",
      "True\n"
     ]
    }
   ],
   "source": [
    "Q = QuaternionGroup()\n",
    "print(q_cayley := Q.cayley_table(names='letters')) # Cayley table.\n",
    "\n",
    "identity = Q.identity()  # Obviously 'a' is the identity.\n",
    "\n",
    "print([x.order() for x in q_cayley.column_keys()])  # Orders of the elements.\n",
    "\n",
    "# We found that 'c' is the only element of order 2, 'c' should be -1.\n",
    "minus_one = q_cayley.column_keys()[2]\n",
    "\n",
    "print(minus_one * minus_one == identity) # Verify\n",
    "\n"
   ]
  },
  {
   "cell_type": "markdown",
   "id": "21c8a3ea",
   "metadata": {},
   "source": [
    "### The Colplex Numbers"
   ]
  },
  {
   "cell_type": "code",
   "execution_count": 12,
   "id": "a53ead5f",
   "metadata": {},
   "outputs": [
    {
     "name": "stdout",
     "output_type": "stream",
     "text": [
      " *   1 -1\n",
      "  +------\n",
      " 1|  1 -1\n",
      "-1| -1  1\n",
      "\n",
      " *   1 -1  i -i\n",
      "  +------------\n",
      " 1|  1 -1  i -i\n",
      "-1| -1  1 -i  i\n",
      " i|  i -i -1  1\n",
      "-i| -i  i  1 -1\n",
      "\n"
     ]
    }
   ],
   "source": [
    "H = [CC(1), CC(-1)]\n",
    "print(CC.multiplication_table(elements=H, names=['1', '-1'])) # Multiplication table.\n",
    "\n",
    "H = [CC(1), CC(-1), CC(I), CC(-I)]\n",
    "print(CC.multiplication_table(elements=H, names=['1', '-1', 'i', '-i'])) # Multiplication table."
   ]
  },
  {
   "cell_type": "markdown",
   "id": "e98a0cfc",
   "metadata": {},
   "source": [
    "### Fancy Operation Table"
   ]
  },
  {
   "cell_type": "code",
   "execution_count": 13,
   "id": "4dd26e41",
   "metadata": {},
   "outputs": [
    {
     "name": "stdout",
     "output_type": "stream",
     "text": [
      ".  a b c d e f g h i j k l\n",
      " +------------------------\n",
      "a| a b c d e f g h i j k l\n",
      "b| b c a f d e h i g l j k\n",
      "c| c a b e f d i g h k l j\n",
      "d| d g j a h k b e l c f i\n",
      "e| e i k c g l a f j b d h\n",
      "f| f h l b i j c d k a e g\n",
      "g| g j d k a h e l b i c f\n",
      "h| h l f j b i d k c g a e\n",
      "i| i k e l c g f j a h b d\n",
      "j| j d g h k a l b e f i c\n",
      "k| k e i g l c j a f d h b\n",
      "l| l f h i j b k c d e g a\n",
      "\n"
     ]
    }
   ],
   "source": [
    "from sage.matrix.operation_table import OperationTable\n",
    "\n",
    "A4 = AlternatingGroup(4)\n",
    "print(otab := OperationTable(A4, operation=lambda x, y: x * y, names='letters'))"
   ]
  },
  {
   "cell_type": "code",
   "execution_count": 14,
   "id": "67aed308",
   "metadata": {},
   "outputs": [
    {
     "data": {
      "image/png": "[encoded data removed]",
      "text/plain": [
       "Graphics object consisting of 145 graphics primitives"
      ]
     },
     "execution_count": 14,
     "metadata": {},
     "output_type": "execute_result"
    }
   ],
   "source": [
    "# Color table.\n",
    "# This is really cool.\n",
    "otab.color_table()"
   ]
  },
  {
   "cell_type": "markdown",
   "id": "4e6b768e",
   "metadata": {},
   "source": [
    "### Exercises"
   ]
  },
  {
   "cell_type": "code",
   "execution_count": 15,
   "id": "cb6e5b13",
   "metadata": {},
   "outputs": [
    {
     "name": "stdout",
     "output_type": "stream",
     "text": [
      "8 == 8 True\n",
      "*  a b c d e f g h\n",
      " +----------------\n",
      "a| a b c d e f g h\n",
      "b| b c d e f g h a\n",
      "c| c d e f g h a b\n",
      "d| d e f g h a b c\n",
      "e| e f g h a b c d\n",
      "f| f g h a b c d e\n",
      "g| g h a b c d e f\n",
      "h| h a b c d e f g\n",
      "\n",
      "*  a b c d e f g h\n",
      " +----------------\n",
      "a| a b c d e f g h\n",
      "b| b a d c f e h g\n",
      "c| c g a e d h b f\n",
      "d| d h b f c g a e\n",
      "e| e f g h a b c d\n",
      "f| f e h g b a d c\n",
      "g| g c e a h d f b\n",
      "h| h d f b g c e a\n",
      "\n",
      "False\n"
     ]
    }
   ],
   "source": [
    "C8 = CyclicPermutationGroup(8)\n",
    "D4 = DihedralGroup(4)\n",
    "\n",
    "print(f'{C8.order()} == {D4.order()}', C8.order() == D4.order())\n",
    "\n",
    "print(C8.cayley_table())\n",
    "print(D4.cayley_table())\n",
    "\n",
    "print(D4.is_abelian())"
   ]
  },
  {
   "cell_type": "code",
   "execution_count": 16,
   "id": "52c94c05",
   "metadata": {},
   "outputs": [
    {
     "name": "stdout",
     "output_type": "stream",
     "text": [
      "*  a b c d\n",
      " +--------\n",
      "a| a b c d\n",
      "b| b c d a\n",
      "c| c d a b\n",
      "d| d a b c\n",
      "\n",
      "*  a b c d\n",
      " +--------\n",
      "a| a b c d\n",
      "b| b a d c\n",
      "c| c d a b\n",
      "d| d c b a\n",
      "\n",
      "*  a b c d\n",
      " +--------\n",
      "a| a b c d\n",
      "b| b c d a\n",
      "c| c d a b\n",
      "d| d a b c\n",
      "\n",
      "*  a b c d\n",
      " +--------\n",
      "a| a b c d\n",
      "b| b a d c\n",
      "c| c d a b\n",
      "d| d c b a\n",
      "\n"
     ]
    }
   ],
   "source": [
    "# Find the subgroup with order 4 in 'C'.\n",
    "H1 = [x for x in C8.subgroups() if x.order() == 4][0]\n",
    "\n",
    "# Find the three subgroups with order 4 in 'D'.\n",
    "H2 = [x for x in D4.subgroups() if x.order() == 4][0]\n",
    "H3 = [x for x in D4.subgroups() if x.order() == 4][1]\n",
    "H4 = [x for x in D4.subgroups() if x.order() == 4][2]\n",
    "\n",
    "print(H1.cayley_table())\n",
    "print(H2.cayley_table())\n",
    "print(H3.cayley_table())\n",
    "print(H4.cayley_table())\n",
    "\n",
    "# H1 and H3 have the same Cayley table."
   ]
  },
  {
   "cell_type": "markdown",
   "id": "801d39ba",
   "metadata": {},
   "source": [
    "## Chapter 4: Cyclic Groups"
   ]
  },
  {
   "cell_type": "markdown",
   "id": "3831adc0",
   "metadata": {},
   "source": [
    "### Matrix Groups"
   ]
  },
  {
   "cell_type": "code",
   "execution_count": 17,
   "id": "af28f39b",
   "metadata": {},
   "outputs": [
    {
     "data": {
      "text/markdown": [
       "Actually its $GL_2(\\mathbb{Q})$, but I can't figure out the way to deal with subgroups of $GL_2(\\R)$. It just doesn't works."
      ],
      "text/plain": [
       "<IPython.core.display.Markdown object>"
      ]
     },
     "metadata": {},
     "output_type": "display_data"
    },
    {
     "data": {
      "text/plain": [
       "(\n",
       "[1 0]  [-1  0]  [ 0 -1]  [ 0  1]\n",
       "[0 1], [ 0 -1], [ 1  0], [-1  0]\n",
       ")"
      ]
     },
     "metadata": {},
     "output_type": "display_data"
    }
   ],
   "source": [
    "display(Markdown(\"Actually its $GL_2(\\mathbb{Q})$, but I can't figure out the way to deal with subgroups of $GL_2(\\R)$. It just doesn't works.\"))\n",
    "\n",
    "# Exercise 4.5.4\n",
    "display(MatrixGroup(Matrix(QQ, 2, [0, 1, -1, 0])).list())"
   ]
  },
  {
   "cell_type": "code",
   "execution_count": null,
   "id": "5dfcb08f",
   "metadata": {},
   "outputs": [],
   "source": []
  }
 ],
 "metadata": {
  "kernelspec": {
   "display_name": "SageMath 10.3",
   "language": "sage",
   "name": "sagemath-10.3"
  },
  "language_info": {
   "codemirror_mode": {
    "name": "ipython",
    "version": 3
   },
   "file_extension": ".py",
   "mimetype": "text/x-python",
   "name": "python",
   "nbconvert_exporter": "python",
   "pygments_lexer": "ipython3",
   "version": "3.11.1"
  }
 },
 "nbformat": 4,
 "nbformat_minor": 5
}
