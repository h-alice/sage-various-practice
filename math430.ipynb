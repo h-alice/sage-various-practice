{
 "cells": [
  {
   "cell_type": "markdown",
   "metadata": {},
   "source": [
    "# Math 0430\n",
    "### Intro to Abstract Algebra Systems SAGE Bonus Project"
   ]
  },
  {
   "cell_type": "code",
   "execution_count": 1,
   "metadata": {},
   "outputs": [],
   "source": [
    "from sage import *\n",
    "from sage.all import *\n",
    "from sage.groups.matrix_gps.finitely_generated import *\n",
    "from IPython.display import Markdown, display"
   ]
  },
  {
   "cell_type": "markdown",
   "metadata": {},
   "source": [
    "### 1-2"
   ]
  },
  {
   "cell_type": "code",
   "execution_count": 2,
   "metadata": {},
   "outputs": [
    {
     "data": {
      "text/plain": [
       "[2, 3, 5, 7]"
      ]
     },
     "execution_count": 2,
     "metadata": {},
     "output_type": "execute_result"
    }
   ],
   "source": [
    "def prime_less_than(n):\n",
    "    return prime_range(2,n)\n",
    "\n",
    "prime_less_than(10)"
   ]
  },
  {
   "cell_type": "markdown",
   "metadata": {},
   "source": [
    "### 1-3"
   ]
  },
  {
   "cell_type": "code",
   "execution_count": 48,
   "metadata": {},
   "outputs": [
    {
     "data": {
      "text/plain": [
       "[]"
      ]
     },
     "execution_count": 48,
     "metadata": {},
     "output_type": "execute_result"
    }
   ],
   "source": [
    "def fermat_little_theorem_test(n):\n",
    "    num_list = []\n",
    "    Zn = Integers(n)\n",
    "    for i in range(2,n):\n",
    "        if pow(Zn(i), n-1) != 1:\n",
    "            num_list.append(i)\n",
    "    return num_list\n",
    "\n",
    "fermat_little_theorem_test(11)"
   ]
  },
  {
   "cell_type": "markdown",
   "metadata": {},
   "source": [
    "### 2-3"
   ]
  },
  {
   "cell_type": "code",
   "execution_count": 3,
   "metadata": {},
   "outputs": [
    {
     "data": {
      "text/plain": [
       "10"
      ]
     },
     "execution_count": 3,
     "metadata": {},
     "output_type": "execute_result"
    }
   ],
   "source": [
    "def dn_subgroups(n):\n",
    "    G = DihedralGroup(n)\n",
    "    return len(G.subgroups())\n",
    "\n",
    "dn_subgroups(4)"
   ]
  },
  {
   "cell_type": "code",
   "execution_count": 5,
   "metadata": {},
   "outputs": [
    {
     "data": {
      "text/plain": [
       "C5"
      ]
     },
     "execution_count": 5,
     "metadata": {},
     "output_type": "execute_result"
    }
   ],
   "source": [
    "gap(gap(5).SmallGroup(1)).StructureDescription()"
   ]
  },
  {
   "cell_type": "code",
   "execution_count": 10,
   "metadata": {},
   "outputs": [
    {
     "name": "stdout",
     "output_type": "stream",
     "text": [
      "{2, 3} {1, 2, 3, 4, 6, 12}\n",
      "C3 : C4\n",
      "{2, 3} {1, 2, 3, 4, 6, 12}\n",
      "C12\n",
      "{2, 3} {1, 2, 3, 4, 12}\n",
      "A4\n",
      "{2, 3} {1, 2, 3, 4, 6, 12}\n",
      "D12\n",
      "{2, 3} {1, 2, 3, 4, 6, 12}\n",
      "C6 x C2\n"
     ]
    }
   ],
   "source": [
    "def lagrange_converse(n):\n",
    "    h = gap(n).AllSmallGroups() # Get all groups of order n.\n",
    "    for i in h:\n",
    "        sd = gap(i).StructureDescription()\n",
    "        g = PermutationGroup(gap_group=gap.Image(gap.IsomorphismPermGroup(i)))\n",
    "        n_factors = set([x[0] for x in factor(n)])\n",
    "        subgroup_orders = set([x.order() for x in g.subgroups()])\n",
    "        print(n_factors, subgroup_orders)\n",
    "        if n_factors & subgroup_orders:\n",
    "            print(sd)\n",
    "\n",
    "lagrange_converse(12)"
   ]
  }
 ],
 "metadata": {
  "kernelspec": {
   "display_name": "SageMath 10.3 for VSCode",
   "language": "python",
   "name": "SageMath-10.3-vscode"
  },
  "language_info": {
   "codemirror_mode": {
    "name": "ipython",
    "version": 3
   },
   "file_extension": ".py",
   "mimetype": "text/x-python",
   "name": "python",
   "nbconvert_exporter": "python",
   "pygments_lexer": "ipython3",
   "version": "3.11.1"
  }
 },
 "nbformat": 4,
 "nbformat_minor": 2
}
